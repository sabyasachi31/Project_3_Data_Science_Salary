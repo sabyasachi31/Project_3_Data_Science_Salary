{
 "cells": [
  {
   "cell_type": "code",
   "execution_count": 1,
   "id": "df939375",
   "metadata": {},
   "outputs": [
    {
     "data": {
      "text/html": [
       "<div>\n",
       "<style scoped>\n",
       "    .dataframe tbody tr th:only-of-type {\n",
       "        vertical-align: middle;\n",
       "    }\n",
       "\n",
       "    .dataframe tbody tr th {\n",
       "        vertical-align: top;\n",
       "    }\n",
       "\n",
       "    .dataframe thead th {\n",
       "        text-align: right;\n",
       "    }\n",
       "</style>\n",
       "<table border=\"1\" class=\"dataframe\">\n",
       "  <thead>\n",
       "    <tr style=\"text-align: right;\">\n",
       "      <th></th>\n",
       "      <th>Unnamed: 0</th>\n",
       "      <th>Unnamed: 0.1</th>\n",
       "      <th>Unnamed: 0.1.1</th>\n",
       "      <th>timestamp</th>\n",
       "      <th>company</th>\n",
       "      <th>level</th>\n",
       "      <th>title</th>\n",
       "      <th>totalyearlycompensation</th>\n",
       "      <th>yearsofexperience</th>\n",
       "      <th>yearsatcompany</th>\n",
       "      <th>stockgrantvalue</th>\n",
       "      <th>bonus</th>\n",
       "      <th>city</th>\n",
       "      <th>state</th>\n",
       "      <th>country</th>\n",
       "      <th>city_state</th>\n",
       "      <th>distance_NY</th>\n",
       "      <th>distance_SF</th>\n",
       "      <th>distance_seattle</th>\n",
       "    </tr>\n",
       "  </thead>\n",
       "  <tbody>\n",
       "    <tr>\n",
       "      <th>0</th>\n",
       "      <td>0</td>\n",
       "      <td>0</td>\n",
       "      <td>745</td>\n",
       "      <td>2018-06-05 14:06:30</td>\n",
       "      <td>LinkedIn</td>\n",
       "      <td>5.0</td>\n",
       "      <td>Data Scientist</td>\n",
       "      <td>233.0</td>\n",
       "      <td>4.0</td>\n",
       "      <td>0.0</td>\n",
       "      <td>220.0</td>\n",
       "      <td>10.0</td>\n",
       "      <td>San Francisco</td>\n",
       "      <td>CA</td>\n",
       "      <td>US</td>\n",
       "      <td>San Francisco%20CCA</td>\n",
       "      <td>4680488</td>\n",
       "      <td>110</td>\n",
       "      <td>1297072</td>\n",
       "    </tr>\n",
       "    <tr>\n",
       "      <th>1</th>\n",
       "      <td>1</td>\n",
       "      <td>1</td>\n",
       "      <td>772</td>\n",
       "      <td>2018-06-08 00:29:47</td>\n",
       "      <td>Amazon</td>\n",
       "      <td>4.0</td>\n",
       "      <td>Data Scientist</td>\n",
       "      <td>140.0</td>\n",
       "      <td>2.0</td>\n",
       "      <td>2.0</td>\n",
       "      <td>48.0</td>\n",
       "      <td>0.0</td>\n",
       "      <td>Seattle</td>\n",
       "      <td>WA</td>\n",
       "      <td>US</td>\n",
       "      <td>Seattle%20CWA</td>\n",
       "      <td>4606061</td>\n",
       "      <td>1296231</td>\n",
       "      <td>798</td>\n",
       "    </tr>\n",
       "    <tr>\n",
       "      <th>2</th>\n",
       "      <td>2</td>\n",
       "      <td>2</td>\n",
       "      <td>776</td>\n",
       "      <td>2018-06-08 09:49:25</td>\n",
       "      <td>Microsoft</td>\n",
       "      <td>64.0</td>\n",
       "      <td>Data Scientist</td>\n",
       "      <td>218.0</td>\n",
       "      <td>11.0</td>\n",
       "      <td>11.0</td>\n",
       "      <td>28.0</td>\n",
       "      <td>23.0</td>\n",
       "      <td>Seattle</td>\n",
       "      <td>WA</td>\n",
       "      <td>US</td>\n",
       "      <td>Seattle%20CWA</td>\n",
       "      <td>4606061</td>\n",
       "      <td>1296231</td>\n",
       "      <td>798</td>\n",
       "    </tr>\n",
       "    <tr>\n",
       "      <th>3</th>\n",
       "      <td>3</td>\n",
       "      <td>3</td>\n",
       "      <td>782</td>\n",
       "      <td>2018-06-08 17:55:09</td>\n",
       "      <td>ebay</td>\n",
       "      <td>26.0</td>\n",
       "      <td>Data Scientist</td>\n",
       "      <td>180.0</td>\n",
       "      <td>10.0</td>\n",
       "      <td>5.0</td>\n",
       "      <td>0.0</td>\n",
       "      <td>0.0</td>\n",
       "      <td>San Jose</td>\n",
       "      <td>CA</td>\n",
       "      <td>US</td>\n",
       "      <td>San Jose%20CCA</td>\n",
       "      <td>4733129</td>\n",
       "      <td>75992</td>\n",
       "      <td>1349713</td>\n",
       "    </tr>\n",
       "    <tr>\n",
       "      <th>4</th>\n",
       "      <td>4</td>\n",
       "      <td>4</td>\n",
       "      <td>796</td>\n",
       "      <td>2018-06-10 19:39:35</td>\n",
       "      <td>Twitter</td>\n",
       "      <td>4.0</td>\n",
       "      <td>Data Scientist</td>\n",
       "      <td>500.0</td>\n",
       "      <td>4.0</td>\n",
       "      <td>4.0</td>\n",
       "      <td>280.0</td>\n",
       "      <td>20.0</td>\n",
       "      <td>San Francisco</td>\n",
       "      <td>CA</td>\n",
       "      <td>US</td>\n",
       "      <td>San Francisco%20CCA</td>\n",
       "      <td>4680488</td>\n",
       "      <td>110</td>\n",
       "      <td>1297072</td>\n",
       "    </tr>\n",
       "  </tbody>\n",
       "</table>\n",
       "</div>"
      ],
      "text/plain": [
       "   Unnamed: 0  Unnamed: 0.1  Unnamed: 0.1.1            timestamp    company  \\\n",
       "0           0             0             745  2018-06-05 14:06:30   LinkedIn   \n",
       "1           1             1             772  2018-06-08 00:29:47     Amazon   \n",
       "2           2             2             776  2018-06-08 09:49:25  Microsoft   \n",
       "3           3             3             782  2018-06-08 17:55:09       ebay   \n",
       "4           4             4             796  2018-06-10 19:39:35    Twitter   \n",
       "\n",
       "   level           title  totalyearlycompensation  yearsofexperience  \\\n",
       "0    5.0  Data Scientist                    233.0                4.0   \n",
       "1    4.0  Data Scientist                    140.0                2.0   \n",
       "2   64.0  Data Scientist                    218.0               11.0   \n",
       "3   26.0  Data Scientist                    180.0               10.0   \n",
       "4    4.0  Data Scientist                    500.0                4.0   \n",
       "\n",
       "   yearsatcompany  stockgrantvalue  bonus           city state country  \\\n",
       "0             0.0            220.0   10.0  San Francisco    CA      US   \n",
       "1             2.0             48.0    0.0        Seattle    WA      US   \n",
       "2            11.0             28.0   23.0        Seattle    WA      US   \n",
       "3             5.0              0.0    0.0       San Jose    CA      US   \n",
       "4             4.0            280.0   20.0  San Francisco    CA      US   \n",
       "\n",
       "            city_state  distance_NY  distance_SF  distance_seattle  \n",
       "0  San Francisco%20CCA      4680488          110           1297072  \n",
       "1        Seattle%20CWA      4606061      1296231               798  \n",
       "2        Seattle%20CWA      4606061      1296231               798  \n",
       "3       San Jose%20CCA      4733129        75992           1349713  \n",
       "4  San Francisco%20CCA      4680488          110           1297072  "
      ]
     },
     "execution_count": 1,
     "metadata": {},
     "output_type": "execute_result"
    }
   ],
   "source": [
    "from sklearn.neural_network import MLPRegressor\n",
    "from sklearn.model_selection import train_test_split\n",
    "from sklearn.preprocessing import StandardScaler\n",
    "from sklearn.metrics import r2_score\n",
    "import pandas as pd\n",
    "\n",
    "df = pd.read_csv(\"salaries_modified.csv\")\n",
    "# Drop the null columns where all values are null\n",
    "df = df.dropna(axis='columns', how='all')\n",
    "# Drop the null rows\n",
    "df = df.dropna()\n",
    "df.head()"
   ]
  },
  {
   "cell_type": "code",
   "execution_count": 2,
   "id": "cfed85b6",
   "metadata": {},
   "outputs": [
    {
     "name": "stdout",
     "output_type": "stream",
     "text": [
      "<class 'pandas.core.frame.DataFrame'>\n",
      "Int64Index: 2055 entries, 0 to 2054\n",
      "Data columns (total 19 columns):\n",
      " #   Column                   Non-Null Count  Dtype  \n",
      "---  ------                   --------------  -----  \n",
      " 0   Unnamed: 0               2055 non-null   int64  \n",
      " 1   Unnamed: 0.1             2055 non-null   int64  \n",
      " 2   Unnamed: 0.1.1           2055 non-null   int64  \n",
      " 3   timestamp                2055 non-null   object \n",
      " 4   company                  2055 non-null   object \n",
      " 5   level                    2055 non-null   float64\n",
      " 6   title                    2055 non-null   object \n",
      " 7   totalyearlycompensation  2055 non-null   float64\n",
      " 8   yearsofexperience        2055 non-null   float64\n",
      " 9   yearsatcompany           2055 non-null   float64\n",
      " 10  stockgrantvalue          2055 non-null   float64\n",
      " 11  bonus                    2055 non-null   float64\n",
      " 12  city                     2055 non-null   object \n",
      " 13  state                    2055 non-null   object \n",
      " 14  country                  2055 non-null   object \n",
      " 15  city_state               2055 non-null   object \n",
      " 16  distance_NY              2055 non-null   int64  \n",
      " 17  distance_SF              2055 non-null   int64  \n",
      " 18  distance_seattle         2055 non-null   int64  \n",
      "dtypes: float64(6), int64(6), object(7)\n",
      "memory usage: 321.1+ KB\n"
     ]
    }
   ],
   "source": [
    "df.info()"
   ]
  },
  {
   "cell_type": "code",
   "execution_count": 3,
   "id": "70d45c0a",
   "metadata": {},
   "outputs": [],
   "source": [
    "def clean_dist(dist):\n",
    "    if dist == 'None':\n",
    "        return None\n",
    "    try:\n",
    "        return int(dist)\n",
    "    except:\n",
    "        return None"
   ]
  },
  {
   "cell_type": "code",
   "execution_count": 4,
   "id": "10d2666d",
   "metadata": {},
   "outputs": [],
   "source": [
    "for col in ['distance_NY', 'distance_SF', 'distance_seattle']:\n",
    "    df[col]=df[col].apply(lambda x: clean_dist(x))"
   ]
  },
  {
   "cell_type": "code",
   "execution_count": 5,
   "id": "12118161",
   "metadata": {},
   "outputs": [],
   "source": [
    "for col in ['distance_NY','distance_SF','distance_seattle']:\n",
    "    df = df[df[col].notnull()].copy()\n",
    "    "
   ]
  },
  {
   "cell_type": "code",
   "execution_count": 6,
   "id": "55846654",
   "metadata": {},
   "outputs": [],
   "source": [
    "# Set features. This will also be used as your x values.\n",
    "selected_features = df[['level', 'yearsofexperience', 'yearsatcompany', 'distance_NY', 'distance_SF', 'distance_seattle']]"
   ]
  },
  {
   "cell_type": "code",
   "execution_count": 7,
   "id": "b9471156",
   "metadata": {},
   "outputs": [
    {
     "name": "stdout",
     "output_type": "stream",
     "text": [
      "<class 'pandas.core.frame.DataFrame'>\n",
      "Int64Index: 2055 entries, 0 to 2054\n",
      "Data columns (total 6 columns):\n",
      " #   Column             Non-Null Count  Dtype  \n",
      "---  ------             --------------  -----  \n",
      " 0   level              2055 non-null   float64\n",
      " 1   yearsofexperience  2055 non-null   float64\n",
      " 2   yearsatcompany     2055 non-null   float64\n",
      " 3   distance_NY        2055 non-null   int64  \n",
      " 4   distance_SF        2055 non-null   int64  \n",
      " 5   distance_seattle   2055 non-null   int64  \n",
      "dtypes: float64(3), int64(3)\n",
      "memory usage: 112.4 KB\n"
     ]
    }
   ],
   "source": [
    "selected_features.info()"
   ]
  },
  {
   "cell_type": "code",
   "execution_count": 8,
   "id": "dc1b156a",
   "metadata": {},
   "outputs": [
    {
     "name": "stdout",
     "output_type": "stream",
     "text": [
      "<class 'pandas.core.frame.DataFrame'>\n",
      "Int64Index: 2055 entries, 0 to 2054\n",
      "Data columns (total 6 columns):\n",
      " #   Column             Non-Null Count  Dtype  \n",
      "---  ------             --------------  -----  \n",
      " 0   level              2055 non-null   float64\n",
      " 1   yearsofexperience  2055 non-null   float64\n",
      " 2   yearsatcompany     2055 non-null   float64\n",
      " 3   distance_NY        2055 non-null   int64  \n",
      " 4   distance_SF        2055 non-null   int64  \n",
      " 5   distance_seattle   2055 non-null   int64  \n",
      "dtypes: float64(3), int64(3)\n",
      "memory usage: 112.4 KB\n"
     ]
    }
   ],
   "source": [
    "selected_features = selected_features[selected_features.notnull()].copy()\n",
    "selected_features.info()"
   ]
  },
  {
   "cell_type": "code",
   "execution_count": 9,
   "id": "dea2a6aa",
   "metadata": {},
   "outputs": [
    {
     "name": "stdout",
     "output_type": "stream",
     "text": [
      "<class 'pandas.core.frame.DataFrame'>\n",
      "Int64Index: 2055 entries, 0 to 2054\n",
      "Data columns (total 6 columns):\n",
      " #   Column             Non-Null Count  Dtype  \n",
      "---  ------             --------------  -----  \n",
      " 0   level              2055 non-null   float64\n",
      " 1   yearsofexperience  2055 non-null   float64\n",
      " 2   yearsatcompany     2055 non-null   float64\n",
      " 3   distance_NY        2055 non-null   int64  \n",
      " 4   distance_SF        2055 non-null   int64  \n",
      " 5   distance_seattle   2055 non-null   int64  \n",
      "dtypes: float64(3), int64(3)\n",
      "memory usage: 112.4 KB\n"
     ]
    }
   ],
   "source": [
    "selected_features.info()"
   ]
  },
  {
   "cell_type": "code",
   "execution_count": 10,
   "id": "b861bb1a",
   "metadata": {},
   "outputs": [
    {
     "data": {
      "text/plain": [
       "2055"
      ]
     },
     "execution_count": 10,
     "metadata": {},
     "output_type": "execute_result"
    }
   ],
   "source": [
    "import numpy as np\n",
    "inf_df = selected_features.isin([np.inf, -np.inf])\n",
    "len(inf_df)"
   ]
  },
  {
   "cell_type": "code",
   "execution_count": 11,
   "id": "9d309284",
   "metadata": {},
   "outputs": [
    {
     "data": {
      "text/html": [
       "<div>\n",
       "<style scoped>\n",
       "    .dataframe tbody tr th:only-of-type {\n",
       "        vertical-align: middle;\n",
       "    }\n",
       "\n",
       "    .dataframe tbody tr th {\n",
       "        vertical-align: top;\n",
       "    }\n",
       "\n",
       "    .dataframe thead th {\n",
       "        text-align: right;\n",
       "    }\n",
       "</style>\n",
       "<table border=\"1\" class=\"dataframe\">\n",
       "  <thead>\n",
       "    <tr style=\"text-align: right;\">\n",
       "      <th></th>\n",
       "      <th>level</th>\n",
       "      <th>yearsofexperience</th>\n",
       "      <th>yearsatcompany</th>\n",
       "      <th>distance_NY</th>\n",
       "      <th>distance_SF</th>\n",
       "      <th>distance_seattle</th>\n",
       "    </tr>\n",
       "  </thead>\n",
       "  <tbody>\n",
       "    <tr>\n",
       "      <th>0</th>\n",
       "      <td>5.0</td>\n",
       "      <td>4.0</td>\n",
       "      <td>0.0</td>\n",
       "      <td>4680488</td>\n",
       "      <td>110</td>\n",
       "      <td>1297072</td>\n",
       "    </tr>\n",
       "    <tr>\n",
       "      <th>1</th>\n",
       "      <td>4.0</td>\n",
       "      <td>2.0</td>\n",
       "      <td>2.0</td>\n",
       "      <td>4606061</td>\n",
       "      <td>1296231</td>\n",
       "      <td>798</td>\n",
       "    </tr>\n",
       "    <tr>\n",
       "      <th>2</th>\n",
       "      <td>64.0</td>\n",
       "      <td>11.0</td>\n",
       "      <td>11.0</td>\n",
       "      <td>4606061</td>\n",
       "      <td>1296231</td>\n",
       "      <td>798</td>\n",
       "    </tr>\n",
       "    <tr>\n",
       "      <th>3</th>\n",
       "      <td>26.0</td>\n",
       "      <td>10.0</td>\n",
       "      <td>5.0</td>\n",
       "      <td>4733129</td>\n",
       "      <td>75992</td>\n",
       "      <td>1349713</td>\n",
       "    </tr>\n",
       "    <tr>\n",
       "      <th>4</th>\n",
       "      <td>4.0</td>\n",
       "      <td>4.0</td>\n",
       "      <td>4.0</td>\n",
       "      <td>4680488</td>\n",
       "      <td>110</td>\n",
       "      <td>1297072</td>\n",
       "    </tr>\n",
       "  </tbody>\n",
       "</table>\n",
       "</div>"
      ],
      "text/plain": [
       "   level  yearsofexperience  yearsatcompany  distance_NY  distance_SF  \\\n",
       "0    5.0                4.0             0.0      4680488          110   \n",
       "1    4.0                2.0             2.0      4606061      1296231   \n",
       "2   64.0               11.0            11.0      4606061      1296231   \n",
       "3   26.0               10.0             5.0      4733129        75992   \n",
       "4    4.0                4.0             4.0      4680488          110   \n",
       "\n",
       "   distance_seattle  \n",
       "0           1297072  \n",
       "1               798  \n",
       "2               798  \n",
       "3           1349713  \n",
       "4           1297072  "
      ]
     },
     "execution_count": 11,
     "metadata": {},
     "output_type": "execute_result"
    }
   ],
   "source": [
    "selected_features.head()"
   ]
  },
  {
   "cell_type": "code",
   "execution_count": 12,
   "id": "24bd1b41",
   "metadata": {},
   "outputs": [
    {
     "data": {
      "text/html": [
       "<div>\n",
       "<style scoped>\n",
       "    .dataframe tbody tr th:only-of-type {\n",
       "        vertical-align: middle;\n",
       "    }\n",
       "\n",
       "    .dataframe tbody tr th {\n",
       "        vertical-align: top;\n",
       "    }\n",
       "\n",
       "    .dataframe thead th {\n",
       "        text-align: right;\n",
       "    }\n",
       "</style>\n",
       "<table border=\"1\" class=\"dataframe\">\n",
       "  <thead>\n",
       "    <tr style=\"text-align: right;\">\n",
       "      <th></th>\n",
       "      <th>Unnamed: 0</th>\n",
       "      <th>Unnamed: 0.1</th>\n",
       "      <th>Unnamed: 0.1.1</th>\n",
       "      <th>level</th>\n",
       "      <th>totalyearlycompensation</th>\n",
       "      <th>yearsofexperience</th>\n",
       "      <th>yearsatcompany</th>\n",
       "      <th>stockgrantvalue</th>\n",
       "      <th>bonus</th>\n",
       "      <th>distance_NY</th>\n",
       "      <th>distance_SF</th>\n",
       "      <th>distance_seattle</th>\n",
       "    </tr>\n",
       "  </thead>\n",
       "  <tbody>\n",
       "    <tr>\n",
       "      <th>count</th>\n",
       "      <td>2055.000000</td>\n",
       "      <td>2055.000000</td>\n",
       "      <td>2055.000000</td>\n",
       "      <td>2055.000000</td>\n",
       "      <td>2055.000000</td>\n",
       "      <td>2055.000000</td>\n",
       "      <td>2055.000000</td>\n",
       "      <td>2055.000000</td>\n",
       "      <td>2055.000000</td>\n",
       "      <td>2.055000e+03</td>\n",
       "      <td>2.055000e+03</td>\n",
       "      <td>2.055000e+03</td>\n",
       "    </tr>\n",
       "    <tr>\n",
       "      <th>mean</th>\n",
       "      <td>1027.000000</td>\n",
       "      <td>1027.848175</td>\n",
       "      <td>31790.884672</td>\n",
       "      <td>14.421898</td>\n",
       "      <td>221.609732</td>\n",
       "      <td>5.027251</td>\n",
       "      <td>2.036667</td>\n",
       "      <td>46.851582</td>\n",
       "      <td>18.511436</td>\n",
       "      <td>3.493419e+06</td>\n",
       "      <td>1.605568e+06</td>\n",
       "      <td>1.932465e+06</td>\n",
       "    </tr>\n",
       "    <tr>\n",
       "      <th>std</th>\n",
       "      <td>593.371722</td>\n",
       "      <td>593.594886</td>\n",
       "      <td>18164.814512</td>\n",
       "      <td>48.636267</td>\n",
       "      <td>105.692401</td>\n",
       "      <td>4.026233</td>\n",
       "      <td>2.237007</td>\n",
       "      <td>66.050664</td>\n",
       "      <td>20.766348</td>\n",
       "      <td>1.824317e+06</td>\n",
       "      <td>1.788747e+06</td>\n",
       "      <td>1.625972e+06</td>\n",
       "    </tr>\n",
       "    <tr>\n",
       "      <th>min</th>\n",
       "      <td>0.000000</td>\n",
       "      <td>0.000000</td>\n",
       "      <td>745.000000</td>\n",
       "      <td>0.000000</td>\n",
       "      <td>16.000000</td>\n",
       "      <td>0.000000</td>\n",
       "      <td>0.000000</td>\n",
       "      <td>0.000000</td>\n",
       "      <td>0.000000</td>\n",
       "      <td>1.000700e+04</td>\n",
       "      <td>1.100000e+02</td>\n",
       "      <td>7.980000e+02</td>\n",
       "    </tr>\n",
       "    <tr>\n",
       "      <th>25%</th>\n",
       "      <td>513.500000</td>\n",
       "      <td>514.500000</td>\n",
       "      <td>16258.500000</td>\n",
       "      <td>4.000000</td>\n",
       "      <td>150.000000</td>\n",
       "      <td>2.000000</td>\n",
       "      <td>0.100000</td>\n",
       "      <td>0.000000</td>\n",
       "      <td>3.000000</td>\n",
       "      <td>2.076857e+06</td>\n",
       "      <td>5.239400e+04</td>\n",
       "      <td>1.297072e+06</td>\n",
       "    </tr>\n",
       "    <tr>\n",
       "      <th>50%</th>\n",
       "      <td>1027.000000</td>\n",
       "      <td>1028.000000</td>\n",
       "      <td>31591.000000</td>\n",
       "      <td>5.000000</td>\n",
       "      <td>200.000000</td>\n",
       "      <td>4.000000</td>\n",
       "      <td>2.000000</td>\n",
       "      <td>28.000000</td>\n",
       "      <td>15.000000</td>\n",
       "      <td>4.606061e+06</td>\n",
       "      <td>1.296231e+06</td>\n",
       "      <td>1.348731e+06</td>\n",
       "    </tr>\n",
       "    <tr>\n",
       "      <th>75%</th>\n",
       "      <td>1540.500000</td>\n",
       "      <td>1541.500000</td>\n",
       "      <td>48258.000000</td>\n",
       "      <td>6.000000</td>\n",
       "      <td>260.000000</td>\n",
       "      <td>7.000000</td>\n",
       "      <td>3.000000</td>\n",
       "      <td>60.000000</td>\n",
       "      <td>25.000000</td>\n",
       "      <td>4.680488e+06</td>\n",
       "      <td>3.100688e+06</td>\n",
       "      <td>3.363231e+06</td>\n",
       "    </tr>\n",
       "    <tr>\n",
       "      <th>max</th>\n",
       "      <td>2054.000000</td>\n",
       "      <td>2055.000000</td>\n",
       "      <td>62610.000000</td>\n",
       "      <td>603.000000</td>\n",
       "      <td>1000.000000</td>\n",
       "      <td>34.000000</td>\n",
       "      <td>20.000000</td>\n",
       "      <td>700.000000</td>\n",
       "      <td>350.000000</td>\n",
       "      <td>4.796489e+06</td>\n",
       "      <td>4.977621e+06</td>\n",
       "      <td>5.305593e+06</td>\n",
       "    </tr>\n",
       "  </tbody>\n",
       "</table>\n",
       "</div>"
      ],
      "text/plain": [
       "        Unnamed: 0  Unnamed: 0.1  Unnamed: 0.1.1        level  \\\n",
       "count  2055.000000   2055.000000     2055.000000  2055.000000   \n",
       "mean   1027.000000   1027.848175    31790.884672    14.421898   \n",
       "std     593.371722    593.594886    18164.814512    48.636267   \n",
       "min       0.000000      0.000000      745.000000     0.000000   \n",
       "25%     513.500000    514.500000    16258.500000     4.000000   \n",
       "50%    1027.000000   1028.000000    31591.000000     5.000000   \n",
       "75%    1540.500000   1541.500000    48258.000000     6.000000   \n",
       "max    2054.000000   2055.000000    62610.000000   603.000000   \n",
       "\n",
       "       totalyearlycompensation  yearsofexperience  yearsatcompany  \\\n",
       "count              2055.000000        2055.000000     2055.000000   \n",
       "mean                221.609732           5.027251        2.036667   \n",
       "std                 105.692401           4.026233        2.237007   \n",
       "min                  16.000000           0.000000        0.000000   \n",
       "25%                 150.000000           2.000000        0.100000   \n",
       "50%                 200.000000           4.000000        2.000000   \n",
       "75%                 260.000000           7.000000        3.000000   \n",
       "max                1000.000000          34.000000       20.000000   \n",
       "\n",
       "       stockgrantvalue        bonus   distance_NY   distance_SF  \\\n",
       "count      2055.000000  2055.000000  2.055000e+03  2.055000e+03   \n",
       "mean         46.851582    18.511436  3.493419e+06  1.605568e+06   \n",
       "std          66.050664    20.766348  1.824317e+06  1.788747e+06   \n",
       "min           0.000000     0.000000  1.000700e+04  1.100000e+02   \n",
       "25%           0.000000     3.000000  2.076857e+06  5.239400e+04   \n",
       "50%          28.000000    15.000000  4.606061e+06  1.296231e+06   \n",
       "75%          60.000000    25.000000  4.680488e+06  3.100688e+06   \n",
       "max         700.000000   350.000000  4.796489e+06  4.977621e+06   \n",
       "\n",
       "       distance_seattle  \n",
       "count      2.055000e+03  \n",
       "mean       1.932465e+06  \n",
       "std        1.625972e+06  \n",
       "min        7.980000e+02  \n",
       "25%        1.297072e+06  \n",
       "50%        1.348731e+06  \n",
       "75%        3.363231e+06  \n",
       "max        5.305593e+06  "
      ]
     },
     "execution_count": 12,
     "metadata": {},
     "output_type": "execute_result"
    }
   ],
   "source": [
    "df.describe()"
   ]
  },
  {
   "cell_type": "code",
   "execution_count": 13,
   "id": "2f2421e2",
   "metadata": {},
   "outputs": [],
   "source": [
    "\n",
    "X = selected_features\n",
    "y = df.bonus\n",
    "X_train, X_test, y_train, y_test = train_test_split(X, y,random_state=1, test_size=0.2)"
   ]
  },
  {
   "cell_type": "code",
   "execution_count": 14,
   "id": "f98da58f",
   "metadata": {},
   "outputs": [
    {
     "data": {
      "text/plain": [
       "(2055, 6)"
      ]
     },
     "execution_count": 14,
     "metadata": {},
     "output_type": "execute_result"
    }
   ],
   "source": [
    "X.shape"
   ]
  },
  {
   "cell_type": "code",
   "execution_count": 15,
   "id": "00ac07dc",
   "metadata": {},
   "outputs": [
    {
     "data": {
      "text/plain": [
       "(2055,)"
      ]
     },
     "execution_count": 15,
     "metadata": {},
     "output_type": "execute_result"
    }
   ],
   "source": [
    "y.shape"
   ]
  },
  {
   "cell_type": "code",
   "execution_count": 16,
   "id": "a22ffe28",
   "metadata": {},
   "outputs": [
    {
     "data": {
      "text/plain": [
       "<bound method NDFrame.head of 0       10.0\n",
       "1        0.0\n",
       "2       23.0\n",
       "3        0.0\n",
       "4       20.0\n",
       "        ... \n",
       "2050     0.0\n",
       "2051     5.0\n",
       "2052     0.0\n",
       "2053    10.0\n",
       "2054    16.0\n",
       "Name: bonus, Length: 2055, dtype: float64>"
      ]
     },
     "execution_count": 16,
     "metadata": {},
     "output_type": "execute_result"
    }
   ],
   "source": [
    "y.head"
   ]
  },
  {
   "cell_type": "code",
   "execution_count": 17,
   "id": "69a72345",
   "metadata": {},
   "outputs": [
    {
     "data": {
      "text/plain": [
       "level                float64\n",
       "yearsofexperience    float64\n",
       "yearsatcompany       float64\n",
       "distance_NY            int64\n",
       "distance_SF            int64\n",
       "distance_seattle       int64\n",
       "dtype: object"
      ]
     },
     "execution_count": 17,
     "metadata": {},
     "output_type": "execute_result"
    }
   ],
   "source": [
    "X.dtypes"
   ]
  },
  {
   "cell_type": "code",
   "execution_count": 18,
   "id": "e600afe5",
   "metadata": {},
   "outputs": [],
   "source": [
    "\n",
    "sc_X = StandardScaler()\n",
    "X_trainscaled=sc_X.fit_transform(X_train)\n",
    "X_testscaled=sc_X.transform(X_test)"
   ]
  },
  {
   "cell_type": "code",
   "execution_count": 19,
   "id": "4a4cc336",
   "metadata": {},
   "outputs": [
    {
     "data": {
      "text/plain": [
       "(array([], dtype=int64), array([], dtype=int64))"
      ]
     },
     "execution_count": 19,
     "metadata": {},
     "output_type": "execute_result"
    }
   ],
   "source": [
    "np.where(np.isnan(X_trainscaled))"
   ]
  },
  {
   "cell_type": "markdown",
   "id": "eb518636",
   "metadata": {},
   "source": [
    "# MLP Regressor"
   ]
  },
  {
   "cell_type": "code",
   "execution_count": 20,
   "id": "8b8b02eb",
   "metadata": {},
   "outputs": [],
   "source": [
    "reg = MLPRegressor(hidden_layer_sizes=(200,100,50),activation=\"relu\" ,\n",
    "                   random_state=42, learning_rate='adaptive', max_iter=2000, solver='adam', early_stopping=True).fit(X_trainscaled, y_train)\n"
   ]
  },
  {
   "cell_type": "code",
   "execution_count": 21,
   "id": "c9e6efb3",
   "metadata": {},
   "outputs": [],
   "source": [
    "parameter_space = {\n",
    "    'hidden_layer_sizes': [(50,50,50), (50,100,50), (100,)],\n",
    "    'activation': ['tanh', 'relu'],\n",
    "    'solver': ['sgd', 'adam'],\n",
    "    'alpha': [0.0001, 0.05],\n",
    "    'learning_rate': ['constant','adaptive'],\n",
    "}"
   ]
  },
  {
   "cell_type": "code",
   "execution_count": 22,
   "id": "04a7a674",
   "metadata": {},
   "outputs": [
    {
     "name": "stdout",
     "output_type": "stream",
     "text": [
      "The Score with  11.702683910816543\n"
     ]
    }
   ],
   "source": [
    "from sklearn.metrics import mean_absolute_error\n",
    "y_pred=reg.predict(X_testscaled)\n",
    "print(\"The Score with \", (mean_absolute_error(y_pred, y_test)))"
   ]
  },
  {
   "cell_type": "code",
   "execution_count": 23,
   "id": "0f1ef9eb",
   "metadata": {},
   "outputs": [],
   "source": [
    "from sklearn.model_selection import RandomizedSearchCV\n",
    "reg2 = MLPRegressor(hidden_layer_sizes=(200,100,50),activation=\"relu\" ,\n",
    "                   random_state=42, learning_rate='adaptive', max_iter=2000, solver='adam', early_stopping=True)\n",
    "\n",
    "bonus_nn = RandomizedSearchCV(reg2, param_distributions = {\n",
    "    'hidden_layer_sizes': [(50,50,50), (50,100,50), (200,100,50)],\n",
    "    'activation': ['tanh', 'relu'],\n",
    "    'solver': ['sgd', 'adam'],\n",
    "    'alpha': [0.01, 0.001, 0.0001, 0.05,.1],\n",
    "    'learning_rate': ['constant','adaptive'],\n",
    "    'max_iter': [1000,2000]},\n",
    "    random_state=42\n",
    ")\n",
    "\n",
    "result = bonus_nn.fit(X_trainscaled, y_train)"
   ]
  },
  {
   "cell_type": "code",
   "execution_count": 24,
   "id": "b5356821",
   "metadata": {},
   "outputs": [],
   "source": [
    "best_params = result.best_params_"
   ]
  },
  {
   "cell_type": "code",
   "execution_count": 25,
   "id": "804331dc",
   "metadata": {},
   "outputs": [
    {
     "data": {
      "text/plain": [
       "{'solver': 'adam',\n",
       " 'max_iter': 1000,\n",
       " 'learning_rate': 'constant',\n",
       " 'hidden_layer_sizes': (50, 100, 50),\n",
       " 'alpha': 0.01,\n",
       " 'activation': 'tanh'}"
      ]
     },
     "execution_count": 25,
     "metadata": {},
     "output_type": "execute_result"
    }
   ],
   "source": [
    "best_params"
   ]
  },
  {
   "cell_type": "code",
   "execution_count": 26,
   "id": "082a56e2",
   "metadata": {},
   "outputs": [
    {
     "data": {
      "text/plain": [
       "11.31472427509363"
      ]
     },
     "execution_count": 26,
     "metadata": {},
     "output_type": "execute_result"
    }
   ],
   "source": [
    "y_test_preds = bonus_nn.predict(X_testscaled)\n",
    "mean_absolute_error(y_test_preds, y_test)"
   ]
  },
  {
   "cell_type": "markdown",
   "id": "e6b6b4d9",
   "metadata": {},
   "source": [
    "# model is result\n",
    "# scalar is sc_X"
   ]
  },
  {
   "cell_type": "code",
   "execution_count": 29,
   "id": "bb2aaded",
   "metadata": {},
   "outputs": [],
   "source": [
    "from pickle import dump\n",
    "bonus_model = 'model_artifacts/bonus_model.pkl'\n",
    "bonus_scalar = 'model_artifacts/bonus_scalar.pkl'\n",
    "dump(result, open(bonus_model, 'wb'))\n",
    "dump(sc_X, open(bonus_scalar, 'wb'))"
   ]
  },
  {
   "cell_type": "code",
   "execution_count": null,
   "id": "2a0e2db8",
   "metadata": {},
   "outputs": [],
   "source": []
  }
 ],
 "metadata": {
  "kernelspec": {
   "display_name": "Python 3 (ipykernel)",
   "language": "python",
   "name": "python3"
  },
  "language_info": {
   "codemirror_mode": {
    "name": "ipython",
    "version": 3
   },
   "file_extension": ".py",
   "mimetype": "text/x-python",
   "name": "python",
   "nbconvert_exporter": "python",
   "pygments_lexer": "ipython3",
   "version": "3.8.8"
  }
 },
 "nbformat": 4,
 "nbformat_minor": 5
}
