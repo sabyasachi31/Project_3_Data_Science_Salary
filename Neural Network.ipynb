{
 "cells": [
  {
   "cell_type": "code",
   "execution_count": 1,
   "id": "5b9c3a62",
   "metadata": {},
   "outputs": [],
   "source": [
    "from sklearn.neural_network import MLPRegressor\n",
    "from sklearn.model_selection import train_test_split\n",
    "from sklearn.preprocessing import StandardScaler\n",
    "from sklearn.metrics import r2_score\n",
    "import pandas as pd\n",
    "\n",
    "df = pd.read_csv(\"salaries_modified.csv\")"
   ]
  },
  {
   "cell_type": "markdown",
   "id": "8c6864c1",
   "metadata": {},
   "source": [
    "# df will be imported with the next 6 cells already processed and exported to the file\n",
    "# do not need to run these 6 cells again"
   ]
  },
  {
   "cell_type": "code",
   "execution_count": 2,
   "id": "969cff6d",
   "metadata": {
    "scrolled": true
   },
   "outputs": [
    {
     "data": {
      "text/html": [
       "<div>\n",
       "<style scoped>\n",
       "    .dataframe tbody tr th:only-of-type {\n",
       "        vertical-align: middle;\n",
       "    }\n",
       "\n",
       "    .dataframe tbody tr th {\n",
       "        vertical-align: top;\n",
       "    }\n",
       "\n",
       "    .dataframe thead th {\n",
       "        text-align: right;\n",
       "    }\n",
       "</style>\n",
       "<table border=\"1\" class=\"dataframe\">\n",
       "  <thead>\n",
       "    <tr style=\"text-align: right;\">\n",
       "      <th></th>\n",
       "      <th>Unnamed: 0</th>\n",
       "      <th>Unnamed: 0.1</th>\n",
       "      <th>timestamp</th>\n",
       "      <th>company</th>\n",
       "      <th>level</th>\n",
       "      <th>title</th>\n",
       "      <th>totalyearlycompensation</th>\n",
       "      <th>yearsofexperience</th>\n",
       "      <th>yearsatcompany</th>\n",
       "      <th>stockgrantvalue</th>\n",
       "      <th>bonus</th>\n",
       "      <th>city</th>\n",
       "      <th>state</th>\n",
       "      <th>country</th>\n",
       "      <th>city_state</th>\n",
       "      <th>distance_NY</th>\n",
       "      <th>distance_SF</th>\n",
       "      <th>distance_seattle</th>\n",
       "    </tr>\n",
       "  </thead>\n",
       "  <tbody>\n",
       "    <tr>\n",
       "      <th>0</th>\n",
       "      <td>0</td>\n",
       "      <td>745</td>\n",
       "      <td>2018-06-05 14:06:30</td>\n",
       "      <td>LinkedIn</td>\n",
       "      <td>5.0</td>\n",
       "      <td>Data Scientist</td>\n",
       "      <td>233.0</td>\n",
       "      <td>4.0</td>\n",
       "      <td>0.0</td>\n",
       "      <td>220.0</td>\n",
       "      <td>10.0</td>\n",
       "      <td>San Francisco</td>\n",
       "      <td>CA</td>\n",
       "      <td>US</td>\n",
       "      <td>San Francisco%20CCA</td>\n",
       "      <td>4680488.0</td>\n",
       "      <td>110.0</td>\n",
       "      <td>1297072.0</td>\n",
       "    </tr>\n",
       "    <tr>\n",
       "      <th>1</th>\n",
       "      <td>1</td>\n",
       "      <td>772</td>\n",
       "      <td>2018-06-08 00:29:47</td>\n",
       "      <td>Amazon</td>\n",
       "      <td>4.0</td>\n",
       "      <td>Data Scientist</td>\n",
       "      <td>140.0</td>\n",
       "      <td>2.0</td>\n",
       "      <td>2.0</td>\n",
       "      <td>48.0</td>\n",
       "      <td>0.0</td>\n",
       "      <td>Seattle</td>\n",
       "      <td>WA</td>\n",
       "      <td>US</td>\n",
       "      <td>Seattle%20CWA</td>\n",
       "      <td>4606061.0</td>\n",
       "      <td>1296231.0</td>\n",
       "      <td>798.0</td>\n",
       "    </tr>\n",
       "    <tr>\n",
       "      <th>2</th>\n",
       "      <td>2</td>\n",
       "      <td>776</td>\n",
       "      <td>2018-06-08 09:49:25</td>\n",
       "      <td>Microsoft</td>\n",
       "      <td>64.0</td>\n",
       "      <td>Data Scientist</td>\n",
       "      <td>218.0</td>\n",
       "      <td>11.0</td>\n",
       "      <td>11.0</td>\n",
       "      <td>28.0</td>\n",
       "      <td>23.0</td>\n",
       "      <td>Seattle</td>\n",
       "      <td>WA</td>\n",
       "      <td>US</td>\n",
       "      <td>Seattle%20CWA</td>\n",
       "      <td>4606061.0</td>\n",
       "      <td>1296231.0</td>\n",
       "      <td>798.0</td>\n",
       "    </tr>\n",
       "    <tr>\n",
       "      <th>3</th>\n",
       "      <td>3</td>\n",
       "      <td>782</td>\n",
       "      <td>2018-06-08 17:55:09</td>\n",
       "      <td>ebay</td>\n",
       "      <td>26.0</td>\n",
       "      <td>Data Scientist</td>\n",
       "      <td>180.0</td>\n",
       "      <td>10.0</td>\n",
       "      <td>5.0</td>\n",
       "      <td>0.0</td>\n",
       "      <td>0.0</td>\n",
       "      <td>San Jose</td>\n",
       "      <td>CA</td>\n",
       "      <td>US</td>\n",
       "      <td>San Jose%20CCA</td>\n",
       "      <td>4733129.0</td>\n",
       "      <td>75992.0</td>\n",
       "      <td>1349713.0</td>\n",
       "    </tr>\n",
       "    <tr>\n",
       "      <th>4</th>\n",
       "      <td>4</td>\n",
       "      <td>796</td>\n",
       "      <td>2018-06-10 19:39:35</td>\n",
       "      <td>Twitter</td>\n",
       "      <td>4.0</td>\n",
       "      <td>Data Scientist</td>\n",
       "      <td>500.0</td>\n",
       "      <td>4.0</td>\n",
       "      <td>4.0</td>\n",
       "      <td>280.0</td>\n",
       "      <td>20.0</td>\n",
       "      <td>San Francisco</td>\n",
       "      <td>CA</td>\n",
       "      <td>US</td>\n",
       "      <td>San Francisco%20CCA</td>\n",
       "      <td>4680488.0</td>\n",
       "      <td>110.0</td>\n",
       "      <td>1297072.0</td>\n",
       "    </tr>\n",
       "  </tbody>\n",
       "</table>\n",
       "</div>"
      ],
      "text/plain": [
       "   Unnamed: 0  Unnamed: 0.1            timestamp    company  level  \\\n",
       "0           0           745  2018-06-05 14:06:30   LinkedIn    5.0   \n",
       "1           1           772  2018-06-08 00:29:47     Amazon    4.0   \n",
       "2           2           776  2018-06-08 09:49:25  Microsoft   64.0   \n",
       "3           3           782  2018-06-08 17:55:09       ebay   26.0   \n",
       "4           4           796  2018-06-10 19:39:35    Twitter    4.0   \n",
       "\n",
       "            title  totalyearlycompensation  yearsofexperience  yearsatcompany  \\\n",
       "0  Data Scientist                    233.0                4.0             0.0   \n",
       "1  Data Scientist                    140.0                2.0             2.0   \n",
       "2  Data Scientist                    218.0               11.0            11.0   \n",
       "3  Data Scientist                    180.0               10.0             5.0   \n",
       "4  Data Scientist                    500.0                4.0             4.0   \n",
       "\n",
       "   stockgrantvalue  bonus           city state country           city_state  \\\n",
       "0            220.0   10.0  San Francisco    CA      US  San Francisco%20CCA   \n",
       "1             48.0    0.0        Seattle    WA      US        Seattle%20CWA   \n",
       "2             28.0   23.0        Seattle    WA      US        Seattle%20CWA   \n",
       "3              0.0    0.0       San Jose    CA      US       San Jose%20CCA   \n",
       "4            280.0   20.0  San Francisco    CA      US  San Francisco%20CCA   \n",
       "\n",
       "   distance_NY  distance_SF  distance_seattle  \n",
       "0    4680488.0        110.0         1297072.0  \n",
       "1    4606061.0    1296231.0             798.0  \n",
       "2    4606061.0    1296231.0             798.0  \n",
       "3    4733129.0      75992.0         1349713.0  \n",
       "4    4680488.0        110.0         1297072.0  "
      ]
     },
     "execution_count": 2,
     "metadata": {},
     "output_type": "execute_result"
    }
   ],
   "source": [
    "# Drop the null columns where all values are null\n",
    "df = df.dropna(axis='columns', how='all')\n",
    "# Drop the null rows\n",
    "df = df.dropna()\n",
    "df.head()"
   ]
  },
  {
   "cell_type": "code",
   "execution_count": 3,
   "id": "9a3b724c",
   "metadata": {},
   "outputs": [
    {
     "name": "stdout",
     "output_type": "stream",
     "text": [
      "<class 'pandas.core.frame.DataFrame'>\n",
      "Int64Index: 2055 entries, 0 to 2054\n",
      "Data columns (total 18 columns):\n",
      " #   Column                   Non-Null Count  Dtype  \n",
      "---  ------                   --------------  -----  \n",
      " 0   Unnamed: 0               2055 non-null   int64  \n",
      " 1   Unnamed: 0.1             2055 non-null   int64  \n",
      " 2   timestamp                2055 non-null   object \n",
      " 3   company                  2055 non-null   object \n",
      " 4   level                    2055 non-null   float64\n",
      " 5   title                    2055 non-null   object \n",
      " 6   totalyearlycompensation  2055 non-null   float64\n",
      " 7   yearsofexperience        2055 non-null   float64\n",
      " 8   yearsatcompany           2055 non-null   float64\n",
      " 9   stockgrantvalue          2055 non-null   float64\n",
      " 10  bonus                    2055 non-null   float64\n",
      " 11  city                     2055 non-null   object \n",
      " 12  state                    2055 non-null   object \n",
      " 13  country                  2055 non-null   object \n",
      " 14  city_state               2055 non-null   object \n",
      " 15  distance_NY              2055 non-null   float64\n",
      " 16  distance_SF              2055 non-null   float64\n",
      " 17  distance_seattle         2055 non-null   float64\n",
      "dtypes: float64(9), int64(2), object(7)\n",
      "memory usage: 305.0+ KB\n"
     ]
    }
   ],
   "source": [
    "df.info()"
   ]
  },
  {
   "cell_type": "code",
   "execution_count": 4,
   "id": "d53c7436",
   "metadata": {},
   "outputs": [],
   "source": [
    "def clean_dist(dist):\n",
    "    if dist == 'None':\n",
    "        return None\n",
    "    try:\n",
    "        return int(dist)\n",
    "    except:\n",
    "        return None"
   ]
  },
  {
   "cell_type": "code",
   "execution_count": 5,
   "id": "dbf9dde1",
   "metadata": {},
   "outputs": [],
   "source": [
    "for col in ['distance_NY', 'distance_SF', 'distance_seattle']:\n",
    "    df[col]=df[col].apply(lambda x: clean_dist(x))"
   ]
  },
  {
   "cell_type": "code",
   "execution_count": 6,
   "id": "915b7a2b",
   "metadata": {},
   "outputs": [],
   "source": [
    "for col in ['distance_NY','distance_SF','distance_seattle']:\n",
    "    df = df[df[col].notnull()].copy()\n",
    "    "
   ]
  },
  {
   "cell_type": "code",
   "execution_count": 7,
   "id": "4b930503",
   "metadata": {},
   "outputs": [],
   "source": [
    "df.to_csv(\"salaries_modified.csv\")"
   ]
  },
  {
   "cell_type": "code",
   "execution_count": 8,
   "id": "2c7e37f0",
   "metadata": {},
   "outputs": [],
   "source": [
    "# Set features. This will also be used as your x values.\n",
    "selected_features = df[['level', 'yearsofexperience', 'yearsatcompany', 'distance_NY', 'bonus', 'stockgrantvalue', 'distance_SF', 'distance_seattle']]"
   ]
  },
  {
   "cell_type": "code",
   "execution_count": 9,
   "id": "8275d1b6",
   "metadata": {},
   "outputs": [
    {
     "name": "stdout",
     "output_type": "stream",
     "text": [
      "<class 'pandas.core.frame.DataFrame'>\n",
      "Int64Index: 2055 entries, 0 to 2054\n",
      "Data columns (total 8 columns):\n",
      " #   Column             Non-Null Count  Dtype  \n",
      "---  ------             --------------  -----  \n",
      " 0   level              2055 non-null   float64\n",
      " 1   yearsofexperience  2055 non-null   float64\n",
      " 2   yearsatcompany     2055 non-null   float64\n",
      " 3   distance_NY        2055 non-null   int64  \n",
      " 4   bonus              2055 non-null   float64\n",
      " 5   stockgrantvalue    2055 non-null   float64\n",
      " 6   distance_SF        2055 non-null   int64  \n",
      " 7   distance_seattle   2055 non-null   int64  \n",
      "dtypes: float64(5), int64(3)\n",
      "memory usage: 144.5 KB\n"
     ]
    }
   ],
   "source": [
    "selected_features.info()"
   ]
  },
  {
   "cell_type": "markdown",
   "id": "a0990e9c",
   "metadata": {},
   "source": [
    "## Resume running cells here"
   ]
  },
  {
   "cell_type": "code",
   "execution_count": 10,
   "id": "b0e178b5",
   "metadata": {},
   "outputs": [
    {
     "name": "stdout",
     "output_type": "stream",
     "text": [
      "<class 'pandas.core.frame.DataFrame'>\n",
      "Int64Index: 2055 entries, 0 to 2054\n",
      "Data columns (total 8 columns):\n",
      " #   Column             Non-Null Count  Dtype  \n",
      "---  ------             --------------  -----  \n",
      " 0   level              2055 non-null   float64\n",
      " 1   yearsofexperience  2055 non-null   float64\n",
      " 2   yearsatcompany     2055 non-null   float64\n",
      " 3   distance_NY        2055 non-null   int64  \n",
      " 4   bonus              2055 non-null   float64\n",
      " 5   stockgrantvalue    2055 non-null   float64\n",
      " 6   distance_SF        2055 non-null   int64  \n",
      " 7   distance_seattle   2055 non-null   int64  \n",
      "dtypes: float64(5), int64(3)\n",
      "memory usage: 144.5 KB\n"
     ]
    }
   ],
   "source": [
    "selected_features = selected_features[selected_features.notnull()].copy()\n",
    "selected_features.info()"
   ]
  },
  {
   "cell_type": "code",
   "execution_count": 11,
   "id": "aafbb70e",
   "metadata": {},
   "outputs": [
    {
     "name": "stdout",
     "output_type": "stream",
     "text": [
      "<class 'pandas.core.frame.DataFrame'>\n",
      "Int64Index: 2055 entries, 0 to 2054\n",
      "Data columns (total 8 columns):\n",
      " #   Column             Non-Null Count  Dtype  \n",
      "---  ------             --------------  -----  \n",
      " 0   level              2055 non-null   float64\n",
      " 1   yearsofexperience  2055 non-null   float64\n",
      " 2   yearsatcompany     2055 non-null   float64\n",
      " 3   distance_NY        2055 non-null   int64  \n",
      " 4   bonus              2055 non-null   float64\n",
      " 5   stockgrantvalue    2055 non-null   float64\n",
      " 6   distance_SF        2055 non-null   int64  \n",
      " 7   distance_seattle   2055 non-null   int64  \n",
      "dtypes: float64(5), int64(3)\n",
      "memory usage: 144.5 KB\n"
     ]
    }
   ],
   "source": [
    "selected_features.info()"
   ]
  },
  {
   "cell_type": "code",
   "execution_count": 12,
   "id": "1cd49e38",
   "metadata": {},
   "outputs": [
    {
     "data": {
      "text/plain": [
       "2055"
      ]
     },
     "execution_count": 12,
     "metadata": {},
     "output_type": "execute_result"
    }
   ],
   "source": [
    "import numpy as np\n",
    "inf_df = selected_features.isin([np.inf, -np.inf])\n",
    "len(inf_df)"
   ]
  },
  {
   "cell_type": "code",
   "execution_count": 13,
   "id": "e244728e",
   "metadata": {},
   "outputs": [
    {
     "data": {
      "text/html": [
       "<div>\n",
       "<style scoped>\n",
       "    .dataframe tbody tr th:only-of-type {\n",
       "        vertical-align: middle;\n",
       "    }\n",
       "\n",
       "    .dataframe tbody tr th {\n",
       "        vertical-align: top;\n",
       "    }\n",
       "\n",
       "    .dataframe thead th {\n",
       "        text-align: right;\n",
       "    }\n",
       "</style>\n",
       "<table border=\"1\" class=\"dataframe\">\n",
       "  <thead>\n",
       "    <tr style=\"text-align: right;\">\n",
       "      <th></th>\n",
       "      <th>level</th>\n",
       "      <th>yearsofexperience</th>\n",
       "      <th>yearsatcompany</th>\n",
       "      <th>distance_NY</th>\n",
       "      <th>bonus</th>\n",
       "      <th>stockgrantvalue</th>\n",
       "      <th>distance_SF</th>\n",
       "      <th>distance_seattle</th>\n",
       "    </tr>\n",
       "  </thead>\n",
       "  <tbody>\n",
       "    <tr>\n",
       "      <th>0</th>\n",
       "      <td>5.0</td>\n",
       "      <td>4.0</td>\n",
       "      <td>0.0</td>\n",
       "      <td>4680488</td>\n",
       "      <td>10.0</td>\n",
       "      <td>220.0</td>\n",
       "      <td>110</td>\n",
       "      <td>1297072</td>\n",
       "    </tr>\n",
       "    <tr>\n",
       "      <th>1</th>\n",
       "      <td>4.0</td>\n",
       "      <td>2.0</td>\n",
       "      <td>2.0</td>\n",
       "      <td>4606061</td>\n",
       "      <td>0.0</td>\n",
       "      <td>48.0</td>\n",
       "      <td>1296231</td>\n",
       "      <td>798</td>\n",
       "    </tr>\n",
       "    <tr>\n",
       "      <th>2</th>\n",
       "      <td>64.0</td>\n",
       "      <td>11.0</td>\n",
       "      <td>11.0</td>\n",
       "      <td>4606061</td>\n",
       "      <td>23.0</td>\n",
       "      <td>28.0</td>\n",
       "      <td>1296231</td>\n",
       "      <td>798</td>\n",
       "    </tr>\n",
       "    <tr>\n",
       "      <th>3</th>\n",
       "      <td>26.0</td>\n",
       "      <td>10.0</td>\n",
       "      <td>5.0</td>\n",
       "      <td>4733129</td>\n",
       "      <td>0.0</td>\n",
       "      <td>0.0</td>\n",
       "      <td>75992</td>\n",
       "      <td>1349713</td>\n",
       "    </tr>\n",
       "    <tr>\n",
       "      <th>4</th>\n",
       "      <td>4.0</td>\n",
       "      <td>4.0</td>\n",
       "      <td>4.0</td>\n",
       "      <td>4680488</td>\n",
       "      <td>20.0</td>\n",
       "      <td>280.0</td>\n",
       "      <td>110</td>\n",
       "      <td>1297072</td>\n",
       "    </tr>\n",
       "  </tbody>\n",
       "</table>\n",
       "</div>"
      ],
      "text/plain": [
       "   level  yearsofexperience  yearsatcompany  distance_NY  bonus  \\\n",
       "0    5.0                4.0             0.0      4680488   10.0   \n",
       "1    4.0                2.0             2.0      4606061    0.0   \n",
       "2   64.0               11.0            11.0      4606061   23.0   \n",
       "3   26.0               10.0             5.0      4733129    0.0   \n",
       "4    4.0                4.0             4.0      4680488   20.0   \n",
       "\n",
       "   stockgrantvalue  distance_SF  distance_seattle  \n",
       "0            220.0          110           1297072  \n",
       "1             48.0      1296231               798  \n",
       "2             28.0      1296231               798  \n",
       "3              0.0        75992           1349713  \n",
       "4            280.0          110           1297072  "
      ]
     },
     "execution_count": 13,
     "metadata": {},
     "output_type": "execute_result"
    }
   ],
   "source": [
    "selected_features.head()"
   ]
  },
  {
   "cell_type": "code",
   "execution_count": 14,
   "id": "eee6f657",
   "metadata": {},
   "outputs": [
    {
     "data": {
      "text/html": [
       "<div>\n",
       "<style scoped>\n",
       "    .dataframe tbody tr th:only-of-type {\n",
       "        vertical-align: middle;\n",
       "    }\n",
       "\n",
       "    .dataframe tbody tr th {\n",
       "        vertical-align: top;\n",
       "    }\n",
       "\n",
       "    .dataframe thead th {\n",
       "        text-align: right;\n",
       "    }\n",
       "</style>\n",
       "<table border=\"1\" class=\"dataframe\">\n",
       "  <thead>\n",
       "    <tr style=\"text-align: right;\">\n",
       "      <th></th>\n",
       "      <th>Unnamed: 0</th>\n",
       "      <th>Unnamed: 0.1</th>\n",
       "      <th>level</th>\n",
       "      <th>totalyearlycompensation</th>\n",
       "      <th>yearsofexperience</th>\n",
       "      <th>yearsatcompany</th>\n",
       "      <th>stockgrantvalue</th>\n",
       "      <th>bonus</th>\n",
       "      <th>distance_NY</th>\n",
       "      <th>distance_SF</th>\n",
       "      <th>distance_seattle</th>\n",
       "    </tr>\n",
       "  </thead>\n",
       "  <tbody>\n",
       "    <tr>\n",
       "      <th>count</th>\n",
       "      <td>2055.000000</td>\n",
       "      <td>2055.000000</td>\n",
       "      <td>2055.000000</td>\n",
       "      <td>2055.000000</td>\n",
       "      <td>2055.000000</td>\n",
       "      <td>2055.000000</td>\n",
       "      <td>2055.000000</td>\n",
       "      <td>2055.000000</td>\n",
       "      <td>2.055000e+03</td>\n",
       "      <td>2.055000e+03</td>\n",
       "      <td>2.055000e+03</td>\n",
       "    </tr>\n",
       "    <tr>\n",
       "      <th>mean</th>\n",
       "      <td>1027.848175</td>\n",
       "      <td>31790.884672</td>\n",
       "      <td>14.421898</td>\n",
       "      <td>221.609732</td>\n",
       "      <td>5.027251</td>\n",
       "      <td>2.036667</td>\n",
       "      <td>46.851582</td>\n",
       "      <td>18.511436</td>\n",
       "      <td>3.493419e+06</td>\n",
       "      <td>1.605568e+06</td>\n",
       "      <td>1.932465e+06</td>\n",
       "    </tr>\n",
       "    <tr>\n",
       "      <th>std</th>\n",
       "      <td>593.594886</td>\n",
       "      <td>18164.814512</td>\n",
       "      <td>48.636267</td>\n",
       "      <td>105.692401</td>\n",
       "      <td>4.026233</td>\n",
       "      <td>2.237007</td>\n",
       "      <td>66.050664</td>\n",
       "      <td>20.766348</td>\n",
       "      <td>1.824317e+06</td>\n",
       "      <td>1.788747e+06</td>\n",
       "      <td>1.625972e+06</td>\n",
       "    </tr>\n",
       "    <tr>\n",
       "      <th>min</th>\n",
       "      <td>0.000000</td>\n",
       "      <td>745.000000</td>\n",
       "      <td>0.000000</td>\n",
       "      <td>16.000000</td>\n",
       "      <td>0.000000</td>\n",
       "      <td>0.000000</td>\n",
       "      <td>0.000000</td>\n",
       "      <td>0.000000</td>\n",
       "      <td>1.000700e+04</td>\n",
       "      <td>1.100000e+02</td>\n",
       "      <td>7.980000e+02</td>\n",
       "    </tr>\n",
       "    <tr>\n",
       "      <th>25%</th>\n",
       "      <td>514.500000</td>\n",
       "      <td>16258.500000</td>\n",
       "      <td>4.000000</td>\n",
       "      <td>150.000000</td>\n",
       "      <td>2.000000</td>\n",
       "      <td>0.100000</td>\n",
       "      <td>0.000000</td>\n",
       "      <td>3.000000</td>\n",
       "      <td>2.076857e+06</td>\n",
       "      <td>5.239400e+04</td>\n",
       "      <td>1.297072e+06</td>\n",
       "    </tr>\n",
       "    <tr>\n",
       "      <th>50%</th>\n",
       "      <td>1028.000000</td>\n",
       "      <td>31591.000000</td>\n",
       "      <td>5.000000</td>\n",
       "      <td>200.000000</td>\n",
       "      <td>4.000000</td>\n",
       "      <td>2.000000</td>\n",
       "      <td>28.000000</td>\n",
       "      <td>15.000000</td>\n",
       "      <td>4.606061e+06</td>\n",
       "      <td>1.296231e+06</td>\n",
       "      <td>1.348731e+06</td>\n",
       "    </tr>\n",
       "    <tr>\n",
       "      <th>75%</th>\n",
       "      <td>1541.500000</td>\n",
       "      <td>48258.000000</td>\n",
       "      <td>6.000000</td>\n",
       "      <td>260.000000</td>\n",
       "      <td>7.000000</td>\n",
       "      <td>3.000000</td>\n",
       "      <td>60.000000</td>\n",
       "      <td>25.000000</td>\n",
       "      <td>4.680488e+06</td>\n",
       "      <td>3.100688e+06</td>\n",
       "      <td>3.363231e+06</td>\n",
       "    </tr>\n",
       "    <tr>\n",
       "      <th>max</th>\n",
       "      <td>2055.000000</td>\n",
       "      <td>62610.000000</td>\n",
       "      <td>603.000000</td>\n",
       "      <td>1000.000000</td>\n",
       "      <td>34.000000</td>\n",
       "      <td>20.000000</td>\n",
       "      <td>700.000000</td>\n",
       "      <td>350.000000</td>\n",
       "      <td>4.796489e+06</td>\n",
       "      <td>4.977621e+06</td>\n",
       "      <td>5.305593e+06</td>\n",
       "    </tr>\n",
       "  </tbody>\n",
       "</table>\n",
       "</div>"
      ],
      "text/plain": [
       "        Unnamed: 0  Unnamed: 0.1        level  totalyearlycompensation  \\\n",
       "count  2055.000000   2055.000000  2055.000000              2055.000000   \n",
       "mean   1027.848175  31790.884672    14.421898               221.609732   \n",
       "std     593.594886  18164.814512    48.636267               105.692401   \n",
       "min       0.000000    745.000000     0.000000                16.000000   \n",
       "25%     514.500000  16258.500000     4.000000               150.000000   \n",
       "50%    1028.000000  31591.000000     5.000000               200.000000   \n",
       "75%    1541.500000  48258.000000     6.000000               260.000000   \n",
       "max    2055.000000  62610.000000   603.000000              1000.000000   \n",
       "\n",
       "       yearsofexperience  yearsatcompany  stockgrantvalue        bonus  \\\n",
       "count        2055.000000     2055.000000      2055.000000  2055.000000   \n",
       "mean            5.027251        2.036667        46.851582    18.511436   \n",
       "std             4.026233        2.237007        66.050664    20.766348   \n",
       "min             0.000000        0.000000         0.000000     0.000000   \n",
       "25%             2.000000        0.100000         0.000000     3.000000   \n",
       "50%             4.000000        2.000000        28.000000    15.000000   \n",
       "75%             7.000000        3.000000        60.000000    25.000000   \n",
       "max            34.000000       20.000000       700.000000   350.000000   \n",
       "\n",
       "        distance_NY   distance_SF  distance_seattle  \n",
       "count  2.055000e+03  2.055000e+03      2.055000e+03  \n",
       "mean   3.493419e+06  1.605568e+06      1.932465e+06  \n",
       "std    1.824317e+06  1.788747e+06      1.625972e+06  \n",
       "min    1.000700e+04  1.100000e+02      7.980000e+02  \n",
       "25%    2.076857e+06  5.239400e+04      1.297072e+06  \n",
       "50%    4.606061e+06  1.296231e+06      1.348731e+06  \n",
       "75%    4.680488e+06  3.100688e+06      3.363231e+06  \n",
       "max    4.796489e+06  4.977621e+06      5.305593e+06  "
      ]
     },
     "execution_count": 14,
     "metadata": {},
     "output_type": "execute_result"
    }
   ],
   "source": [
    "df.describe()"
   ]
  },
  {
   "cell_type": "code",
   "execution_count": 15,
   "id": "285d2a8b",
   "metadata": {},
   "outputs": [],
   "source": [
    "\n",
    "X = selected_features\n",
    "y = df.totalyearlycompensation\n",
    "X_train, X_test, y_train, y_test = train_test_split(X, y,random_state=1, test_size=0.2)"
   ]
  },
  {
   "cell_type": "code",
   "execution_count": 16,
   "id": "909c7a08",
   "metadata": {},
   "outputs": [
    {
     "data": {
      "text/plain": [
       "(2055, 8)"
      ]
     },
     "execution_count": 16,
     "metadata": {},
     "output_type": "execute_result"
    }
   ],
   "source": [
    "X.shape"
   ]
  },
  {
   "cell_type": "code",
   "execution_count": 17,
   "id": "856a1b85",
   "metadata": {},
   "outputs": [
    {
     "data": {
      "text/plain": [
       "(2055,)"
      ]
     },
     "execution_count": 17,
     "metadata": {},
     "output_type": "execute_result"
    }
   ],
   "source": [
    "y.shape"
   ]
  },
  {
   "cell_type": "code",
   "execution_count": 18,
   "id": "e72c8ead",
   "metadata": {},
   "outputs": [
    {
     "data": {
      "text/plain": [
       "<bound method NDFrame.head of 0       233.0\n",
       "1       140.0\n",
       "2       218.0\n",
       "3       180.0\n",
       "4       500.0\n",
       "        ...  \n",
       "2050    250.0\n",
       "2051    145.0\n",
       "2052    110.0\n",
       "2053    120.0\n",
       "2054    233.0\n",
       "Name: totalyearlycompensation, Length: 2055, dtype: float64>"
      ]
     },
     "execution_count": 18,
     "metadata": {},
     "output_type": "execute_result"
    }
   ],
   "source": [
    "y.head"
   ]
  },
  {
   "cell_type": "code",
   "execution_count": 19,
   "id": "10bc2eb5",
   "metadata": {},
   "outputs": [
    {
     "data": {
      "text/plain": [
       "level                float64\n",
       "yearsofexperience    float64\n",
       "yearsatcompany       float64\n",
       "distance_NY            int64\n",
       "bonus                float64\n",
       "stockgrantvalue      float64\n",
       "distance_SF            int64\n",
       "distance_seattle       int64\n",
       "dtype: object"
      ]
     },
     "execution_count": 19,
     "metadata": {},
     "output_type": "execute_result"
    }
   ],
   "source": [
    "X.dtypes"
   ]
  },
  {
   "cell_type": "code",
   "execution_count": 20,
   "id": "8ab6bf68",
   "metadata": {},
   "outputs": [],
   "source": [
    "\n",
    "sc_X = StandardScaler()\n",
    "X_trainscaled=sc_X.fit_transform(X_train)\n",
    "X_testscaled=sc_X.transform(X_test)"
   ]
  },
  {
   "cell_type": "code",
   "execution_count": 21,
   "id": "a7ccd585",
   "metadata": {},
   "outputs": [
    {
     "data": {
      "text/plain": [
       "(array([], dtype=int64), array([], dtype=int64))"
      ]
     },
     "execution_count": 21,
     "metadata": {},
     "output_type": "execute_result"
    }
   ],
   "source": [
    "np.where(np.isnan(X_trainscaled))"
   ]
  },
  {
   "cell_type": "code",
   "execution_count": 22,
   "id": "23ca8128",
   "metadata": {},
   "outputs": [],
   "source": [
    "reg = MLPRegressor(hidden_layer_sizes=(200,100,50),activation=\"relu\" ,\n",
    "                   random_state=42, learning_rate='adaptive', max_iter=2000, solver='adam', early_stopping=True).fit(X_trainscaled, y_train)\n"
   ]
  },
  {
   "cell_type": "code",
   "execution_count": 23,
   "id": "82eee626",
   "metadata": {},
   "outputs": [],
   "source": [
    "parameter_space = {\n",
    "    'hidden_layer_sizes': [(50,50,50), (50,100,50), (100,)],\n",
    "    'activation': ['tanh', 'relu'],\n",
    "    'solver': ['sgd', 'adam'],\n",
    "    'alpha': [0.0001, 0.05],\n",
    "    'learning_rate': ['constant','adaptive'],\n",
    "}"
   ]
  },
  {
   "cell_type": "code",
   "execution_count": 24,
   "id": "b289fcea",
   "metadata": {},
   "outputs": [
    {
     "name": "stdout",
     "output_type": "stream",
     "text": [
      "The Score with  27.059220878415857\n"
     ]
    }
   ],
   "source": [
    "from sklearn.metrics import mean_absolute_error\n",
    "y_pred=reg.predict(X_testscaled)\n",
    "print(\"The Score with \", (mean_absolute_error(y_pred, y_test)))"
   ]
  },
  {
   "cell_type": "code",
   "execution_count": 25,
   "id": "6c6adc11",
   "metadata": {},
   "outputs": [],
   "source": [
    "reg1 = MLPRegressor(hidden_layer_sizes=(200,100,50),activation=\"relu\" ,\n",
    "                   random_state=42, learning_rate='adaptive', max_iter=2000, solver='adam', early_stopping=True)\n"
   ]
  },
  {
   "cell_type": "code",
   "execution_count": 26,
   "id": "5cea4a00",
   "metadata": {},
   "outputs": [
    {
     "name": "stderr",
     "output_type": "stream",
     "text": [
      "/Users/iSabyasachi/opt/anaconda3/envs/Python3-8/lib/python3.8/site-packages/sklearn/neural_network/_multilayer_perceptron.py:692: ConvergenceWarning: Stochastic Optimizer: Maximum iterations (1000) reached and the optimization hasn't converged yet.\n",
      "  warnings.warn(\n",
      "/Users/iSabyasachi/opt/anaconda3/envs/Python3-8/lib/python3.8/site-packages/sklearn/neural_network/_multilayer_perceptron.py:692: ConvergenceWarning: Stochastic Optimizer: Maximum iterations (1000) reached and the optimization hasn't converged yet.\n",
      "  warnings.warn(\n",
      "/Users/iSabyasachi/opt/anaconda3/envs/Python3-8/lib/python3.8/site-packages/sklearn/neural_network/_multilayer_perceptron.py:692: ConvergenceWarning: Stochastic Optimizer: Maximum iterations (1000) reached and the optimization hasn't converged yet.\n",
      "  warnings.warn(\n",
      "/Users/iSabyasachi/opt/anaconda3/envs/Python3-8/lib/python3.8/site-packages/sklearn/neural_network/_multilayer_perceptron.py:692: ConvergenceWarning: Stochastic Optimizer: Maximum iterations (1000) reached and the optimization hasn't converged yet.\n",
      "  warnings.warn(\n",
      "/Users/iSabyasachi/opt/anaconda3/envs/Python3-8/lib/python3.8/site-packages/sklearn/neural_network/_multilayer_perceptron.py:692: ConvergenceWarning: Stochastic Optimizer: Maximum iterations (1000) reached and the optimization hasn't converged yet.\n",
      "  warnings.warn(\n",
      "/Users/iSabyasachi/opt/anaconda3/envs/Python3-8/lib/python3.8/site-packages/sklearn/neural_network/_multilayer_perceptron.py:692: ConvergenceWarning: Stochastic Optimizer: Maximum iterations (1000) reached and the optimization hasn't converged yet.\n",
      "  warnings.warn(\n",
      "/Users/iSabyasachi/opt/anaconda3/envs/Python3-8/lib/python3.8/site-packages/sklearn/neural_network/_multilayer_perceptron.py:692: ConvergenceWarning: Stochastic Optimizer: Maximum iterations (1000) reached and the optimization hasn't converged yet.\n",
      "  warnings.warn(\n",
      "/Users/iSabyasachi/opt/anaconda3/envs/Python3-8/lib/python3.8/site-packages/sklearn/neural_network/_multilayer_perceptron.py:692: ConvergenceWarning: Stochastic Optimizer: Maximum iterations (1000) reached and the optimization hasn't converged yet.\n",
      "  warnings.warn(\n",
      "/Users/iSabyasachi/opt/anaconda3/envs/Python3-8/lib/python3.8/site-packages/sklearn/neural_network/_multilayer_perceptron.py:692: ConvergenceWarning: Stochastic Optimizer: Maximum iterations (1000) reached and the optimization hasn't converged yet.\n",
      "  warnings.warn(\n",
      "/Users/iSabyasachi/opt/anaconda3/envs/Python3-8/lib/python3.8/site-packages/sklearn/neural_network/_base.py:174: RuntimeWarning: overflow encountered in square\n",
      "  return ((y_true - y_pred) ** 2).mean() / 2\n",
      "/Users/iSabyasachi/opt/anaconda3/envs/Python3-8/lib/python3.8/site-packages/sklearn/utils/extmath.py:153: RuntimeWarning: overflow encountered in matmul\n",
      "  ret = a @ b\n",
      "/Users/iSabyasachi/opt/anaconda3/envs/Python3-8/lib/python3.8/site-packages/sklearn/utils/extmath.py:153: RuntimeWarning: invalid value encountered in matmul\n",
      "  ret = a @ b\n",
      "/Users/iSabyasachi/opt/anaconda3/envs/Python3-8/lib/python3.8/site-packages/sklearn/utils/extmath.py:153: RuntimeWarning: overflow encountered in matmul\n",
      "  ret = a @ b\n",
      "/Users/iSabyasachi/opt/anaconda3/envs/Python3-8/lib/python3.8/site-packages/sklearn/utils/extmath.py:153: RuntimeWarning: invalid value encountered in matmul\n",
      "  ret = a @ b\n",
      "/Users/iSabyasachi/opt/anaconda3/envs/Python3-8/lib/python3.8/site-packages/sklearn/utils/extmath.py:153: RuntimeWarning: overflow encountered in matmul\n",
      "  ret = a @ b\n",
      "/Users/iSabyasachi/opt/anaconda3/envs/Python3-8/lib/python3.8/site-packages/sklearn/utils/extmath.py:153: RuntimeWarning: invalid value encountered in matmul\n",
      "  ret = a @ b\n",
      "/Users/iSabyasachi/opt/anaconda3/envs/Python3-8/lib/python3.8/site-packages/sklearn/neural_network/_base.py:174: RuntimeWarning: overflow encountered in square\n",
      "  return ((y_true - y_pred) ** 2).mean() / 2\n",
      "/Users/iSabyasachi/opt/anaconda3/envs/Python3-8/lib/python3.8/site-packages/sklearn/utils/extmath.py:153: RuntimeWarning: overflow encountered in matmul\n",
      "  ret = a @ b\n",
      "/Users/iSabyasachi/opt/anaconda3/envs/Python3-8/lib/python3.8/site-packages/sklearn/utils/extmath.py:153: RuntimeWarning: invalid value encountered in matmul\n",
      "  ret = a @ b\n",
      "/Users/iSabyasachi/opt/anaconda3/envs/Python3-8/lib/python3.8/site-packages/sklearn/utils/extmath.py:153: RuntimeWarning: overflow encountered in matmul\n",
      "  ret = a @ b\n",
      "/Users/iSabyasachi/opt/anaconda3/envs/Python3-8/lib/python3.8/site-packages/sklearn/neural_network/_base.py:174: RuntimeWarning: overflow encountered in square\n",
      "  return ((y_true - y_pred) ** 2).mean() / 2\n",
      "/Users/iSabyasachi/opt/anaconda3/envs/Python3-8/lib/python3.8/site-packages/sklearn/utils/extmath.py:153: RuntimeWarning: invalid value encountered in matmul\n",
      "  ret = a @ b\n",
      "/Users/iSabyasachi/opt/anaconda3/envs/Python3-8/lib/python3.8/site-packages/sklearn/neural_network/_multilayer_perceptron.py:692: ConvergenceWarning: Stochastic Optimizer: Maximum iterations (1000) reached and the optimization hasn't converged yet.\n",
      "  warnings.warn(\n",
      "/Users/iSabyasachi/opt/anaconda3/envs/Python3-8/lib/python3.8/site-packages/sklearn/neural_network/_multilayer_perceptron.py:692: ConvergenceWarning: Stochastic Optimizer: Maximum iterations (1000) reached and the optimization hasn't converged yet.\n",
      "  warnings.warn(\n",
      "/Users/iSabyasachi/opt/anaconda3/envs/Python3-8/lib/python3.8/site-packages/sklearn/neural_network/_multilayer_perceptron.py:692: ConvergenceWarning: Stochastic Optimizer: Maximum iterations (1000) reached and the optimization hasn't converged yet.\n",
      "  warnings.warn(\n",
      "/Users/iSabyasachi/opt/anaconda3/envs/Python3-8/lib/python3.8/site-packages/sklearn/neural_network/_multilayer_perceptron.py:692: ConvergenceWarning: Stochastic Optimizer: Maximum iterations (1000) reached and the optimization hasn't converged yet.\n",
      "  warnings.warn(\n",
      "/Users/iSabyasachi/opt/anaconda3/envs/Python3-8/lib/python3.8/site-packages/sklearn/neural_network/_multilayer_perceptron.py:692: ConvergenceWarning: Stochastic Optimizer: Maximum iterations (1000) reached and the optimization hasn't converged yet.\n",
      "  warnings.warn(\n",
      "/Users/iSabyasachi/opt/anaconda3/envs/Python3-8/lib/python3.8/site-packages/sklearn/model_selection/_validation.py:372: FitFailedWarning: \n",
      "5 fits failed out of a total of 50.\n",
      "The score on these train-test partitions for these parameters will be set to nan.\n",
      "If these failures are not expected, you can try to debug them by setting error_score='raise'.\n",
      "\n",
      "Below are more details about the failures:\n",
      "--------------------------------------------------------------------------------\n",
      "5 fits failed with the following error:\n",
      "Traceback (most recent call last):\n",
      "  File \"/Users/iSabyasachi/opt/anaconda3/envs/Python3-8/lib/python3.8/site-packages/sklearn/model_selection/_validation.py\", line 681, in _fit_and_score\n",
      "    estimator.fit(X_train, y_train, **fit_params)\n",
      "  File \"/Users/iSabyasachi/opt/anaconda3/envs/Python3-8/lib/python3.8/site-packages/sklearn/neural_network/_multilayer_perceptron.py\", line 752, in fit\n",
      "    return self._fit(X, y, incremental=False)\n",
      "  File \"/Users/iSabyasachi/opt/anaconda3/envs/Python3-8/lib/python3.8/site-packages/sklearn/neural_network/_multilayer_perceptron.py\", line 427, in _fit\n",
      "    self._fit_stochastic(\n",
      "  File \"/Users/iSabyasachi/opt/anaconda3/envs/Python3-8/lib/python3.8/site-packages/sklearn/neural_network/_multilayer_perceptron.py\", line 661, in _fit_stochastic\n",
      "    self._update_no_improvement_count(early_stopping, X_val, y_val)\n",
      "  File \"/Users/iSabyasachi/opt/anaconda3/envs/Python3-8/lib/python3.8/site-packages/sklearn/neural_network/_multilayer_perceptron.py\", line 709, in _update_no_improvement_count\n",
      "    self.validation_scores_.append(self.score(X_val, y_val))\n",
      "  File \"/Users/iSabyasachi/opt/anaconda3/envs/Python3-8/lib/python3.8/site-packages/sklearn/base.py\", line 701, in score\n",
      "    return r2_score(y, y_pred, sample_weight=sample_weight)\n",
      "  File \"/Users/iSabyasachi/opt/anaconda3/envs/Python3-8/lib/python3.8/site-packages/sklearn/metrics/_regression.py\", line 774, in r2_score\n",
      "    y_type, y_true, y_pred, multioutput = _check_reg_targets(\n",
      "  File \"/Users/iSabyasachi/opt/anaconda3/envs/Python3-8/lib/python3.8/site-packages/sklearn/metrics/_regression.py\", line 91, in _check_reg_targets\n",
      "    y_pred = check_array(y_pred, ensure_2d=False, dtype=dtype)\n",
      "  File \"/Users/iSabyasachi/opt/anaconda3/envs/Python3-8/lib/python3.8/site-packages/sklearn/utils/validation.py\", line 792, in check_array\n",
      "    _assert_all_finite(array, allow_nan=force_all_finite == \"allow-nan\")\n",
      "  File \"/Users/iSabyasachi/opt/anaconda3/envs/Python3-8/lib/python3.8/site-packages/sklearn/utils/validation.py\", line 114, in _assert_all_finite\n",
      "    raise ValueError(\n",
      "ValueError: Input contains NaN, infinity or a value too large for dtype('float64').\n",
      "\n",
      "  warnings.warn(some_fits_failed_message, FitFailedWarning)\n",
      "/Users/iSabyasachi/opt/anaconda3/envs/Python3-8/lib/python3.8/site-packages/sklearn/model_selection/_search.py:969: UserWarning: One or more of the test scores are non-finite: [-6.82718255e-03 -6.82745129e-03  6.14434215e-01  1.87174958e-01\n",
      " -7.20038632e-04             nan  7.86403750e-01 -7.20289053e-04\n",
      "  4.70781700e-02  7.87142778e-01]\n",
      "  warnings.warn(\n"
     ]
    }
   ],
   "source": [
    "from sklearn.model_selection import RandomizedSearchCV\n",
    "\n",
    "rs = RandomizedSearchCV(reg1, param_distributions = {\n",
    "    'hidden_layer_sizes': [(50,50,50), (50,100,50), (100,)],\n",
    "    'activation': ['tanh', 'relu'],\n",
    "    'solver': ['sgd', 'adam'],\n",
    "    'alpha': [0.01, 0.001, 0.0001, .1, 0.05],\n",
    "    'learning_rate': ['constant','adaptive'],\n",
    "    'max_iter': [1000,2000]},\n",
    "    random_state=42\n",
    ")\n",
    "\n",
    "result = rs.fit(X_trainscaled, y_train)"
   ]
  },
  {
   "cell_type": "code",
   "execution_count": 31,
   "id": "dab9dd7f",
   "metadata": {},
   "outputs": [],
   "source": [
    "best_params = result.best_params_"
   ]
  },
  {
   "cell_type": "code",
   "execution_count": 32,
   "id": "781e0ea5",
   "metadata": {},
   "outputs": [
    {
     "data": {
      "text/plain": [
       "{'solver': 'adam',\n",
       " 'max_iter': 2000,\n",
       " 'learning_rate': 'adaptive',\n",
       " 'hidden_layer_sizes': (100,),\n",
       " 'alpha': 0.01,\n",
       " 'activation': 'relu'}"
      ]
     },
     "execution_count": 32,
     "metadata": {},
     "output_type": "execute_result"
    }
   ],
   "source": [
    "best_params"
   ]
  },
  {
   "cell_type": "code",
   "execution_count": 33,
   "id": "3982651f",
   "metadata": {},
   "outputs": [
    {
     "data": {
      "text/plain": [
       "26.628635055208914"
      ]
     },
     "execution_count": 33,
     "metadata": {},
     "output_type": "execute_result"
    }
   ],
   "source": [
    "y_test_preds = rs.predict(X_testscaled)\n",
    "mean_absolute_error(y_test_preds, y_test)"
   ]
  },
  {
   "cell_type": "markdown",
   "id": "f2033fd9",
   "metadata": {},
   "source": [
    "# model is result\n",
    "# scalar is sc_X"
   ]
  },
  {
   "cell_type": "code",
   "execution_count": 30,
   "id": "f9dc99bd",
   "metadata": {},
   "outputs": [],
   "source": [
    "from pickle import dump\n",
    "model = 'model_artifacts/model.pkl'\n",
    "scalar = 'model_artifacts/scalar.pkl'\n",
    "dump(result, open(model, 'wb'))\n",
    "dump(sc_X, open(scalar, 'wb'))"
   ]
  },
  {
   "cell_type": "code",
   "execution_count": null,
   "id": "32e5c66e",
   "metadata": {},
   "outputs": [],
   "source": []
  }
 ],
 "metadata": {
  "kernelspec": {
   "display_name": "Python 3 (ipykernel)",
   "language": "python",
   "name": "python3"
  },
  "language_info": {
   "codemirror_mode": {
    "name": "ipython",
    "version": 3
   },
   "file_extension": ".py",
   "mimetype": "text/x-python",
   "name": "python",
   "nbconvert_exporter": "python",
   "pygments_lexer": "ipython3",
   "version": "3.8.8"
  }
 },
 "nbformat": 4,
 "nbformat_minor": 5
}
