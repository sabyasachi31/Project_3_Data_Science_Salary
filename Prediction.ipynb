{
 "cells": [
  {
   "cell_type": "code",
   "execution_count": 1,
   "id": "1e940fc3",
   "metadata": {},
   "outputs": [],
   "source": [
    "#Import Dependencies\n",
    "from pickle import load\n",
    "import pandas as pd\n",
    "import numpy as np\n",
    "from api_keys import g_key\n",
    "import gmaps\n",
    "import requests\n",
    "import warnings\n",
    "warnings.filterwarnings('ignore')"
   ]
  },
  {
   "cell_type": "markdown",
   "id": "22543477",
   "metadata": {},
   "source": [
    "# Loading Models and Scalars"
   ]
  },
  {
   "cell_type": "code",
   "execution_count": 2,
   "id": "7b163fa3",
   "metadata": {},
   "outputs": [],
   "source": [
    "model = load(open('model_artifacts/model.pkl', 'rb'))\n",
    "scalar = load(open('model_artifacts/scalar.pkl', 'rb'))\n",
    "\n",
    "bonus_model = load(open('model_artifacts/bonus_model.pkl', 'rb'))\n",
    "bonus_scalar = load(open('model_artifacts/bonus_scalar.pkl', 'rb'))\n",
    "\n",
    "equity_model = load(open('model_artifacts/equity_model.pkl', 'rb'))\n",
    "equity_scalar = load(open('model_artifacts/equity_scalar.pkl', 'rb'))\n"
   ]
  },
  {
   "cell_type": "markdown",
   "id": "17b8157a",
   "metadata": {},
   "source": [
    "# Distance function calculates the distance of the job location from NY, SF and Seattle using Google APIs"
   ]
  },
  {
   "cell_type": "code",
   "execution_count": 3,
   "id": "04587073",
   "metadata": {},
   "outputs": [],
   "source": [
    "def distances(origin_city, destination_cities, g_key):\n",
    "    base_url = \"https://maps.googleapis.com/maps/api/distancematrix/json?\"\n",
    "    distances=[]\n",
    "\n",
    "    \n",
    "    for i in range(len(destination_cities)):\n",
    "        \n",
    "        url=base_url+\"origins=\"+origin_city+\"&destinations=\"+destination_cities[i]+\"%20C\"+\"&key=\"+g_key\n",
    "\n",
    "        payload={}\n",
    "        headers = {}\n",
    "        response = requests.request(\"GET\", url, headers=headers, data=payload)\n",
    "\n",
    "        x=response.json()\n",
    "\n",
    "        y=x[\"rows\"][0][\"elements\"][0][\"distance\"][\"value\"]\n",
    "\n",
    "        distances.append(y)\n",
    "        \n",
    "    return(distances)\n"
   ]
  },
  {
   "cell_type": "markdown",
   "id": "1507a72a",
   "metadata": {},
   "source": [
    "# Prediction Function that calculates  the yearly compensation, bonus and equity using the scalars and models"
   ]
  },
  {
   "cell_type": "code",
   "execution_count": 4,
   "id": "798c74ab",
   "metadata": {},
   "outputs": [],
   "source": [
    "def predict(yac, exp, level, d1, d2, d3):\n",
    "    X_be=np.array([[level, exp, yac, d1, d2, d3]])\n",
    "    X_be=X_be.reshape(1, -1)\n",
    "    bonus_scaled=bonus_scalar.transform(X_be)\n",
    "    bonus=bonus_model.predict(bonus_scaled)\n",
    "    \n",
    "    equity_scaled=equity_scalar.transform(X_be)\n",
    "    equity=equity_model.predict(equity_scaled)\n",
    "    \n",
    "    X=np.array([[level, exp, yac, d1, bonus, equity, d2, d3]])\n",
    "    X=X.reshape(1, -1)\n",
    "    scaled=scalar.transform(X)\n",
    "    salary=model.predict(scaled)\n",
    "    \n",
    "    Y=[bonus, equity, salary]\n",
    "    return Y\n",
    " "
   ]
  },
  {
   "cell_type": "markdown",
   "id": "0390a082",
   "metadata": {},
   "source": [
    "# Takes in User Inputs and calls the prediction function"
   ]
  },
  {
   "cell_type": "code",
   "execution_count": 9,
   "id": "5b49710c",
   "metadata": {},
   "outputs": [
    {
     "name": "stdout",
     "output_type": "stream",
     "text": [
      "Enter years at company(in years): 0\n",
      "Enter years of experience(in years): 10\n",
      "Enter company location city: San Francisco\n",
      "Enter company location state abbreviation: CA\n",
      "Enter your level. Eg. 10 for VP, 1 for Junior for Associate Data Scientist\n",
      "Enter level: 8\n"
     ]
    }
   ],
   "source": [
    "yac=input(\"Enter years at company(in years): \")\n",
    "exp=input(\"Enter years of experience(in years): \")\n",
    "city=input(\"Enter company location city: \")\n",
    "state=input(\"Enter company location state abbreviation: \")\n",
    "print(\"Enter your level. Eg. 10 for VP, 1 for Junior for Associate Data Scientist\")\n",
    "level=input(\"Enter level: \")\n",
    "\n",
    "origin_city=city+\"%20C\"+state\n",
    "destination_cities=[\"New York%20CNY\",\"San Francisco%20CCA\", \"Seattle%20CWA\"]\n",
    "\n",
    "D_y=distances(origin_city, destination_cities, g_key)\n",
    "\n",
    "result=predict(yac, exp, level, D_y[0], D_y[1], D_y[2])\n",
    "bonus=result[0]\n",
    "equity=result[1]\n",
    "salary=result[2]\n"
   ]
  },
  {
   "cell_type": "markdown",
   "id": "a0ed4337",
   "metadata": {},
   "source": [
    "# Prints the total compensation, bonus and equity"
   ]
  },
  {
   "cell_type": "code",
   "execution_count": 10,
   "id": "3a79b350",
   "metadata": {},
   "outputs": [
    {
     "name": "stdout",
     "output_type": "stream",
     "text": [
      "Your expected total yearly compensation is: $[315.05406749]\n",
      "Your expected bonus is: $[26.66141486]\n",
      "Your expected equity is: $[100.17848505]\n"
     ]
    }
   ],
   "source": [
    "print(f\"Your expected total yearly compensation is: ${salary}\")\n",
    "print(f\"Your expected bonus is: ${bonus}\")\n",
    "print(f\"Your expected equity is: ${equity}\")"
   ]
  },
  {
   "cell_type": "markdown",
   "id": "a438d5a8",
   "metadata": {},
   "source": [
    "# Previously run results"
   ]
  },
  {
   "cell_type": "markdown",
   "id": "0779394a",
   "metadata": {},
   "source": [
    "0, 10, Lincoln, NE, 8            194, 26, 43\n",
    "2, 10, Lincoln, NE, 8            184, 26, 34\n",
    "5, 10, Lincoln, NE, 8            149, 26, 17\n",
    "2, 5, Lincoln, NE, 5             112, 14, 14\n",
    "\n",
    "0, 10, Chicago, IL, 8            200, 26, 38 \n",
    "2, 10, Chicago, IL, 8            184, 26, 27\n",
    "5, 10, Chicago, IL, 8            157, 26, 10\n",
    "2, 5, Chicago, IL, 5             134, 14, 15\n",
    "\n",
    "0, 10, San Francisco, CA, 8      315, 26, 100\n",
    "2, 10, San Francisco, CA, 8      313, 26, 98\n",
    "5, 10, San Francisco, CA, 8      304, 26, 92\n",
    "2, 5, San Francisco, CA, 5       253, 17, 68"
   ]
  },
  {
   "cell_type": "markdown",
   "id": "f618f576",
   "metadata": {},
   "source": [
    "# Observed interesting trends"
   ]
  },
  {
   "cell_type": "markdown",
   "id": "e3dd7d1d",
   "metadata": {},
   "source": [
    "At any company you are more likely to get a larger salary if you are just starting\n",
    "\n",
    "Cities, with greater opportunities for data science jobs  and/or with higher living expense are expected to have larger compensations.\n",
    "\n",
    "For same number of years at a company, lower level and experience means lesser salary, whuch is intuitive."
   ]
  }
 ],
 "metadata": {
  "kernelspec": {
   "display_name": "Python 3 (ipykernel)",
   "language": "python",
   "name": "python3"
  },
  "language_info": {
   "codemirror_mode": {
    "name": "ipython",
    "version": 3
   },
   "file_extension": ".py",
   "mimetype": "text/x-python",
   "name": "python",
   "nbconvert_exporter": "python",
   "pygments_lexer": "ipython3",
   "version": "3.8.8"
  }
 },
 "nbformat": 4,
 "nbformat_minor": 5
}
